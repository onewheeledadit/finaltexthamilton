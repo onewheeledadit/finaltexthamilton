{
 "cells": [
  {
   "cell_type": "code",
   "execution_count": 15,
   "metadata": {
    "collapsed": false,
    "deletable": true,
    "editable": true
   },
   "outputs": [],
   "source": [
    "import sys\n",
    "sys.path.append('/Library/Frameworks/Python.framework/Versions/3.5/lib/python3.5/site-packages')\n",
    "import string\n",
    "import re\n",
    "from nltk.corpus import stopwords\n",
    "from nltk.tokenize import RegexpTokenizer\n",
    "from stop_words import get_stop_words\n",
    "from nltk.stem.porter import PorterStemmer\n",
    "from gensim import corpora, models\n",
    "import gensim\n",
    "import glob\n",
    "from sklearn.feature_extraction.text import TfidfVectorizer, CountVectorizer\n",
    "from sklearn.decomposition import LatentDirichletAllocation\n",
    "import nltk\n",
    "from nltk.sentiment.vader import SentimentIntensityAnalyzer"
   ]
  },
  {
   "cell_type": "code",
   "execution_count": 39,
   "metadata": {
    "collapsed": false,
    "deletable": true,
    "editable": true
   },
   "outputs": [],
   "source": [
    "files = glob.glob('/Users/ikhwankim/Downloads/ling400_final/finaltexthamilton/txts/by_sentences/*.txt')\n",
    "corp_list = {}\n",
    "\n",
    "for filename in files:\n",
    "        file = open(filename, 'r')\n",
    "        corp = file.read()\n",
    "        corp2 = []\n",
    "        for sentences in corp.split('\\n'):\n",
    "            if sentences != '':\n",
    "                corp2.append(sentences)\n",
    "        reg = re.compile(r'\\/([A-Z]*)\\.txt')\n",
    "        character_name = reg.findall(filename)[0]\n",
    "        corp_list[character_name] = (corp2)\n",
    "        file.close()"
   ]
  },
  {
   "cell_type": "code",
   "execution_count": 41,
   "metadata": {
    "collapsed": false
   },
   "outputs": [
    {
     "data": {
      "text/plain": [
       "['bastard orphan son whore Scotsman drop middle Forgotten spot Caribbean providence Impoverished squalor grow hero scholar',\n",
       " 'well word get around say  kid insane man  take collection send mainland  get education forget whence come world gon na know name name man ',\n",
       " 'would nothin  leave someone less astute woulda dead destitute without cent restitution start workin  clerkin  late mother s landlord tradin  sugar cane rum thing afford scammin  every book get hand plannin  future see stand bow ship head new land New York new man',\n",
       " 'ship harbor see spot another immigrant Comin  bottom enemy destroy rep America forget',\n",
       " 'I I damn fool shoot',\n",
       " 'name man',\n",
       " 'depend ask',\n",
       " 'I get nervous',\n",
       " 'punch bursar',\n",
       " 'parent  die wish pass',\n",
       " 'talk let I offer free advice talk less',\n",
       " 'smile',\n",
       " 'let know',\n",
       " 'wan na get ahead',\n",
       " 'fool run mouth wind dead',\n",
       " ' like',\n",
       " 'good luck takin  stand spit I  sit see land',\n",
       " 'genius lower voice keep trouble double choice I situation fraught get carefully teach talk gon na get shoot',\n",
       " 'nothing rich folk love go downtown slummin  poor pull carriage gawk student common watch talk take Philip Schuyler man load Uhoh little know daughter Peggy Angelica Eliza Sneak city watch guy ',\n",
       " 'Wooh nothin  like summer city someone rush next someone lookin  pretty excuse I miss',\n",
       " 'ah discuss I I trust fund baby trust I',\n",
       " 'let',\n",
       " 'Alexander please',\n",
       " 'Ladies gentleman',\n",
       " 'moment wait',\n",
       " 'pride Mount Vernon',\n",
       " 'George Washington',\n",
       " 'excellency sir',\n",
       " 'Aaron Burr Sir permission state case',\n",
       " 'Sir',\n",
       " 'well ',\n",
       " 'keep meeting',\n",
       " 'Sir',\n",
       " 'Sir',\n",
       " 'sure',\n",
       " 'sensible',\n",
       " 'kind I afraid unlawful sir',\n",
       " 'marry',\n",
       " 'marry british officer',\n",
       " 'Congrats Alexander Smile I see side war',\n",
       " 'I see side war',\n",
       " 'Theodosia write I letter every day im keep bed warm husband away british side Georgia Hes try keep colony line keep Georgia Theodosia mine love doesnt discriminate sinner saint take take take keep loving anyway laugh cry break make mistake reason im side many try im willing wait im willing wait',\n",
       " 'grandfather fire brimstone preacher thing Homilies hymn wont teach ya mother genius father command respect die leave instruction legacy protect',\n",
       " 'I fall behind run late',\n",
       " 'I stand still',\n",
       " 'Hamilton face endless uphill climb',\n",
       " 'something prove nothing lose',\n",
       " 'Hamilton s pace relentless waste time',\n",
       " 'like shoe Hamilton hesitate exhibit restraint take take take keep win anyway change game play raise stake reason seem thrive survive Goddamnit ',\n",
       " 'im willing wait im willing wait  Life doesnt discriminate sinner saint take take take rise fall reason im still alive many die im willin ',\n",
       " 'wait  wait ',\n",
       " 'negotiate peace ',\n",
       " 'commonplace  specially  tween recruit',\n",
       " 'turn around deniability',\n",
       " 'Alexander',\n",
       " 'agree duel dumb immature',\n",
       " 'life know absurd sir',\n",
       " 'okay doin ',\n",
       " 'shoot side yes yield',\n",
       " 'yo get ta clear field',\n",
       " 'fun',\n",
       " 'yes sir',\n",
       " 'let s ride',\n",
       " 'ragtag volunteer army need shower somehow defeat global superpower emerge victorious quagmire leave battlefield wave Betsy Ross  flag higher Yo turn secret weapon immigrant know love unafraid step constantly confusin  confoundin  british henchman ev  ryone give America s favorite fighting frenchman',\n",
       " 'Dear Theodosia say eye mother s name come world cry break heart I dedicate every day domestic life never quite style smile knock I',\n",
       " 'father around',\n",
       " 'I around',\n",
       " 'I make million mistake',\n",
       " 'war',\n",
       " 'even though start time Alexander Hamilton begin climb account rise top Maaaaan man',\n",
       " 'Cocounsel Hamilton sit client Levi Weeks innocent call first witness say',\n",
       " 'assume smartest room assume smartest room assume smartest room soon attitude may doom',\n",
       " 'write like run time write day night like run time ev  ry day fight like run time keep fight meantime ',\n",
       " 'Hamilton Constitutional Convention',\n",
       " 'New York junior delegate',\n",
       " 'go propose form government plan new form government',\n",
       " 'talk six hour convention listless',\n",
       " 'always say believe always say believe ev  ry proclamation guarantee free ammunition enemy',\n",
       " 'Alexander',\n",
       " 'middle night',\n",
       " 'legal matter',\n",
       " 'need',\n",
       " 'okay',\n",
       " 'client',\n",
       " 'way',\n",
       " 'one read',\n",
       " 'fail',\n",
       " 'constitution s mess',\n",
       " 'full contradiction',\n",
       " 'way',\n",
       " 'good night',\n",
       " 'course',\n",
       " 'back wrong horse',\n",
       " 'I keep plan close chest I wait see way wind blow I take time watch Afterbirth nation watch tension grow',\n",
       " 'Alexander join force James Madison John Jay write series essay defend new United States Constitution entitle Federalist Papers plan write total twentyfive essay work divide evenly among three man end write eightyfive essay span six month John Jay get sick write five James Madison write twentynine Hamilton write fiftyone',\n",
       " 'write like run time write day night like run time',\n",
       " 'assume smartest room assume smartest room assume smartest room soon attitude s gon na doom fight like run time fight like Nonstop Nonstop Nonstop Nonstop',\n",
       " ' bastard orphan immigrant decorate war vet unite colony debt fight founding father til forfeit lose ready yet Treasury Secretary Washington s President Ev  ry american experiment set precedent fast someone come along resist piss twoparty system meet yet chance  cause kickin  ass ambassador France someone s get ta keep american promise simply must meet Thomas Thomas',\n",
       " 'nothing like summer city someone stress meet someone look pretty trouble air smell Alexander s I let tell',\n",
       " 'ah Mister Secretary',\n",
       " 'Didja hear news good old General Mercer',\n",
       " 'know Clermont Street',\n",
       " 'rename Mercer legacy secure',\n",
       " 'die',\n",
       " 'oughta give try',\n",
       " 'gon na get debt plan',\n",
       " 'really',\n",
       " 'ha',\n",
       " 'Madison Jefferson merciless',\n",
       " 'two Virginians immigrant walk room',\n",
       " 'emerge compromise open door',\n",
       " 'immigrant emerge unprecedented financial power',\n",
       " 'one else room happen room happen room happen one else room happen room happen room happen one really know game play art trade sausage get make assume happen one else room happen',\n",
       " 'one else ',\n",
       " 'one else ',\n",
       " 'one really know party get yesssss piece sacrifice ev  ry game chesssss assume happen one else room happen',\n",
       " 'Madison grapple fact ev  ry issue settle committee',\n",
       " 'Congress fight put capital  company scream chaos',\n",
       " 'pretty Jefferson approach dinner invite Madison respond virginian insight',\n",
       " 'God',\n",
       " 'one else room happen',\n",
       " 'say get sell New York City river',\n",
       " 'Washington know dinner presidential pressure deliver',\n",
       " 'know even matter put',\n",
       " 'get give',\n",
       " 'hold nose close eye',\n",
       " 'get say trade away',\n",
       " 'dream dark part',\n",
       " 'I get room  I get  I get  oh I get room happen  I get I get ta I get ta  room clickboom',\n",
       " 'since one put I',\n",
       " 'need know I like',\n",
       " 'oh Wall Street think great always adore thing create upstate ',\n",
       " ' people think crooked Schuyler s seat grab',\n",
       " 'must nice must nice Washington side must nice must nice Washington side',\n",
       " 'must nice must nice Washington side must nice must nice Washington side look back Bill Rights',\n",
       " 'look eye',\n",
       " 'somebody stand mouth',\n",
       " 'Hamilton shorttempered protean creator Coast Guard founder New York Post ardently abuse cab n et post destroy reputation welcome folk',\n",
       " 'Jefferson s runnerup make Vice President',\n",
       " 'Adams fire Hamilton privately call  creole bastard  taunt',\n",
       " 'Hamilton publish response',\n",
       " 'Hamilton control',\n",
       " 'Mr James Reynolds way back seventeen ninetyone',\n",
       " 'immigrant embezzle government fund ',\n",
       " 'one else room happen',\n",
       " ' Dear Sir',\n",
       " 'Alexander rumor grow Know know',\n",
       " 'wait wait wait ',\n",
       " 'real crime amorous connection wife',\n",
       " 'house',\n",
       " 'talk less smile let  em know Shake hand charm eighteen hundred lady tell husband vote Burr',\n",
       " 'Alexander',\n",
       " 'I go door door',\n",
       " 'sure',\n",
       " 'honestly kind drain',\n",
       " 'Sir',\n",
       " 'I chase',\n",
       " 'congrat race wellrun',\n",
       " 'vicepresident',\n",
       " 'Hamilton arrogant immigrant orphan bastard whoreson somehow endorse Thomas Jefferson enemy',\n",
       " 'keep I ',\n",
       " 'last time Dear Alexander',\n",
       " 'sweet Jesus',\n",
       " 'careful proceed good man intemperate indeed good man Answer accusation',\n",
       " 'stand Alexander Weehawken Dawn gun draw',\n",
       " 'five six seven eight nine ',\n",
       " 'ten thing need know',\n",
       " 'row across Hudson dawn friend William',\n",
       " 'Hamilton arrive crew Nathaniel Pendleton doctor know',\n",
       " 'Hamilton draw first position look world like man mission soldier marksman s ability doctor turn around could deniability',\n",
       " 'examine gun rigor',\n",
       " 'Confession time',\n",
       " 'teach class look Hamilton wear glass take deadly aim I world never',\n",
       " 'look eye aim higher summon courage require count',\n",
       " 'wait',\n",
       " 'somebody tell I  would better hide ',\n",
       " 'say',\n",
       " 'side die death discriminate sinner saint take take take history obliterate every picture paint paint I mistake Alexander aim sky may first one die I one pay',\n",
       " 'President Jefferson',\n",
       " 'President Madison',\n",
       " 'go remember name keep flame']"
      ]
     },
     "execution_count": 41,
     "metadata": {},
     "output_type": "execute_result"
    }
   ],
   "source": [
    "corp_list['BURR']"
   ]
  },
  {
   "cell_type": "code",
   "execution_count": 123,
   "metadata": {
    "collapsed": false,
    "scrolled": true
   },
   "outputs": [],
   "source": [
    "sid = SentimentIntensityAnalyzer()\n",
    "sentiment_dict = {}\n",
    "f = open('all_sentiment_analysis.txt', 'r+')\n",
    "for characters, bodies in corp_list.items():\n",
    "    f.write(characters+'\\n------------------------------------------------------\\n')\n",
    "    positive = 0\n",
    "    neutral = 0\n",
    "    negative = 0\n",
    "    compound = 0\n",
    "    pos_inten = 0\n",
    "    neg_inten = 0\n",
    "    for sentence in bodies:\n",
    "        f.write(sentence + '\\n')\n",
    "        ss = sid.polarity_scores(sentence)\n",
    "        compound += ss['compound']\n",
    "        if ss['pos'] > ss['neg'] and ss['pos'] > ss['neu']:\n",
    "            positive += 1\n",
    "            pos_inten += ss['compound']\n",
    "        elif ss['neg'] > ss['pos'] and ss['neg'] > ss['neu']:\n",
    "            negative += 1\n",
    "            neg_inten += -ss['compound']\n",
    "        elif ss['neu'] > ss['pos'] and ss['neu'] > ss['neg']:\n",
    "            neutral += 1\n",
    "        f.write(str(ss) + '\\n\\n')\n",
    "    sentiment_dict[characters] = {'sentence_count': len(bodies), 'positive': positive, \\\n",
    "                                 'negative': negative, 'neutral': neutral, 'compound': compound, \\\n",
    "                                 'pos_inten': pos_inten / positive, 'neg_inten': neg_inten / negative}\n",
    "f.close()"
   ]
  },
  {
   "cell_type": "code",
   "execution_count": 124,
   "metadata": {
    "collapsed": false
   },
   "outputs": [
    {
     "name": "stdout",
     "output_type": "stream",
     "text": [
      "MULLIGAN\n",
      "sentence_count: 18\n",
      "positive: 2\n",
      "negative: 2\n",
      "neutral: 14\n",
      "compound: 0.4106999999999999\n",
      "pos_inten: 0.30585\n",
      "neg_inten: 0.4491\n",
      "\n",
      "\n",
      "LAFAYETTE\n",
      "sentence_count: 26\n",
      "positive: 4\n",
      "negative: 2\n",
      "neutral: 18\n",
      "compound: 1.6322999999999999\n",
      "pos_inten: 0.66605\n",
      "neg_inten: 0.6716500000000001\n",
      "\n",
      "\n",
      "ENSEMBLE\n",
      "sentence_count: 82\n",
      "positive: 5\n",
      "negative: 2\n",
      "neutral: 74\n",
      "compound: 2.5854000000000004\n",
      "pos_inten: 0.5877600000000001\n",
      "neg_inten: 0.55945\n",
      "\n",
      "\n",
      "JEFFERSON\n",
      "sentence_count: 69\n",
      "positive: 10\n",
      "negative: 4\n",
      "neutral: 55\n",
      "compound: 3.3613\n",
      "pos_inten: 0.51379\n",
      "neg_inten: 0.38785000000000003\n",
      "\n",
      "\n",
      "ANGELICA\n",
      "sentence_count: 55\n",
      "positive: 10\n",
      "negative: 6\n",
      "neutral: 38\n",
      "compound: 5.1278\n",
      "pos_inten: 0.43061\n",
      "neg_inten: 0.36846666666666666\n",
      "\n",
      "\n",
      "WASHINGTON\n",
      "sentence_count: 96\n",
      "positive: 9\n",
      "negative: 11\n",
      "neutral: 73\n",
      "compound: 1.8114999999999992\n",
      "pos_inten: 0.467788888888889\n",
      "neg_inten: 0.47839090909090914\n",
      "\n",
      "\n",
      "BURR\n",
      "sentence_count: 181\n",
      "positive: 30\n",
      "negative: 19\n",
      "neutral: 131\n",
      "compound: 7.110600000000001\n",
      "pos_inten: 0.4562833333333334\n",
      "neg_inten: 0.5345\n",
      "\n",
      "\n",
      "HAMILTON\n",
      "sentence_count: 287\n",
      "positive: 50\n",
      "negative: 23\n",
      "neutral: 213\n",
      "compound: 14.453399999999995\n",
      "pos_inten: 0.4247219999999999\n",
      "neg_inten: 0.46412608695652163\n",
      "\n",
      "\n",
      "LAURENS\n",
      "sentence_count: 31\n",
      "positive: 8\n",
      "negative: 2\n",
      "neutral: 21\n",
      "compound: 5.604399999999999\n",
      "pos_inten: 0.5525875\n",
      "neg_inten: 0.3895\n",
      "\n",
      "\n",
      "ELIZA\n",
      "sentence_count: 77\n",
      "positive: 12\n",
      "negative: 6\n",
      "neutral: 59\n",
      "compound: 5.793\n",
      "pos_inten: 0.5139666666666668\n",
      "neg_inten: 0.3952\n",
      "\n",
      "\n",
      "COMPANY\n",
      "sentence_count: 150\n",
      "positive: 16\n",
      "negative: 8\n",
      "neutral: 126\n",
      "compound: -0.9459000000000012\n",
      "pos_inten: 0.22488749999999996\n",
      "neg_inten: 0.6044375000000001\n",
      "\n",
      "\n",
      "MADISON\n",
      "sentence_count: 40\n",
      "positive: 11\n",
      "negative: 2\n",
      "neutral: 27\n",
      "compound: 4.6186\n",
      "pos_inten: 0.5155363636363636\n",
      "neg_inten: 0.34895\n",
      "\n",
      "\n"
     ]
    }
   ],
   "source": [
    "for key, value in sentiment_dict.items():\n",
    "    print(key)\n",
    "    for key,value in value.items():\n",
    "        print(key+':', value)\n",
    "    print('\\n')"
   ]
  },
  {
   "cell_type": "code",
   "execution_count": 102,
   "metadata": {
    "collapsed": false
   },
   "outputs": [
    {
     "data": {
      "image/png": "[encoded data removed]",
      "text/plain": [
       "<matplotlib.figure.Figure at 0x11af66c50>"
      ]
     },
     "metadata": {},
     "output_type": "display_data"
    }
   ],
   "source": [
    "from matplotlib import pyplot as plt\n",
    "import numpy as np\n",
    "\n",
    "fig = plt.figure()\n",
    "\n",
    "OX = sentiment_dict.keys()\n",
    "OY = [x['compound']/x['sentence_count'] for x in sentiment_dict.values()]\n",
    "ind = np.arange(len(OY))\n",
    "      \n",
    "plt.bar(ind, OY)\n",
    "plt.xticks(ind+.4, OX, rotation=90)\n",
    "plt.axhline(y = 0, color='black')\n",
    "plt.savefig(\"compound.png\")\n",
    "plt.show()"
   ]
  },
  {
   "cell_type": "code",
   "execution_count": 103,
   "metadata": {
    "collapsed": false,
    "scrolled": true
   },
   "outputs": [
    {
     "data": {
      "image/png": "[encoded data removed]",
      "text/plain": [
       "<matplotlib.figure.Figure at 0x11ae25be0>"
      ]
     },
     "metadata": {},
     "output_type": "display_data"
    }
   ],
   "source": [
    "OY = [x['positive']/x['sentence_count'] for x in sentiment_dict.values()]\n",
    "ind = np.arange(len(OY))\n",
    "      \n",
    "plt.bar(ind, OY)\n",
    "plt.xticks(ind+.4, OX, rotation=90)\n",
    "plt.ylim(ymax=.3)\n",
    "      \n",
    "plt.savefig(\"positive.png\")\n",
    "plt.show()"
   ]
  },
  {
   "cell_type": "code",
   "execution_count": 125,
   "metadata": {
    "collapsed": false
   },
   "outputs": [
    {
     "data": {
      "image/png": "[encoded data removed]",
      "text/plain": [
       "<matplotlib.figure.Figure at 0x1199bcb70>"
      ]
     },
     "metadata": {},
     "output_type": "display_data"
    }
   ],
   "source": [
    "# Compound score divided by net positive rate\n",
    "OY = [x['pos_inten']for x in sentiment_dict.values()]\n",
    "ind = np.arange(len(OY))\n",
    "      \n",
    "plt.bar(ind, OY)\n",
    "plt.xticks(ind+.4, OX, rotation=90)\n",
    "plt.savefig(\"pos_intensity.png\")\n",
    "plt.show()"
   ]
  },
  {
   "cell_type": "code",
   "execution_count": 130,
   "metadata": {
    "collapsed": false
   },
   "outputs": [
    {
     "data": {
      "text/plain": [
       "[0.4491,\n",
       " 0.6716500000000001,\n",
       " 0.55945,\n",
       " 0.38785000000000003,\n",
       " 0.36846666666666666,\n",
       " 0.47839090909090914,\n",
       " 0.5345,\n",
       " 0.46412608695652163,\n",
       " 0.3895,\n",
       " 0.3952,\n",
       " 0.6044375000000001,\n",
       " 0.34895]"
      ]
     },
     "execution_count": 130,
     "metadata": {},
     "output_type": "execute_result"
    }
   ],
   "source": [
    "OY = [x['neg_inten']for x in sentiment_dict.values()]\n",
    "OY"
   ]
  },
  {
   "cell_type": "code",
   "execution_count": 129,
   "metadata": {
    "collapsed": false
   },
   "outputs": [
    {
     "data": {
      "text/plain": [
       "dict_keys(['MULLIGAN', 'LAFAYETTE', 'ENSEMBLE', 'JEFFERSON', 'ANGELICA', 'WASHINGTON', 'BURR', 'HAMILTON', 'LAURENS', 'ELIZA', 'COMPANY', 'MADISON'])"
      ]
     },
     "execution_count": 129,
     "metadata": {},
     "output_type": "execute_result"
    }
   ],
   "source": [
    "OX"
   ]
  },
  {
   "cell_type": "code",
   "execution_count": 127,
   "metadata": {
    "collapsed": false
   },
   "outputs": [
    {
     "data": {
      "image/png": "[encoded data removed]",
      "text/plain": [
       "<matplotlib.figure.Figure at 0x11a2ae2b0>"
      ]
     },
     "metadata": {},
     "output_type": "display_data"
    }
   ],
   "source": [
    "# Compound score divided by net positive rate\n",
    "OY = [x['neg_inten']for x in sentiment_dict.values()]\n",
    "ind = np.arange(len(OY))\n",
    "      \n",
    "plt.bar(ind, OY)\n",
    "plt.xticks(ind+.4, OX, rotation=90)\n",
    "plt.savefig(\"neg_intensity.png\")\n",
    "plt.show()"
   ]
  },
  {
   "cell_type": "code",
   "execution_count": 105,
   "metadata": {
    "collapsed": false
   },
   "outputs": [
    {
     "data": {
      "image/png": "[encoded data removed]",
      "text/plain": [
       "<matplotlib.figure.Figure at 0x11a3ae5c0>"
      ]
     },
     "metadata": {},
     "output_type": "display_data"
    }
   ],
   "source": [
    "OY = [x['negative']/x['sentence_count'] for x in sentiment_dict.values()]\n",
    "ind = np.arange(len(OY))\n",
    "      \n",
    "plt.bar(ind, OY)\n",
    "plt.xticks(ind+.4, OX, rotation=90)\n",
    "plt.ylim(ymax=.3)\n",
    "\n",
    "plt.savefig(\"negative.png\")\n",
    "plt.show()"
   ]
  },
  {
   "cell_type": "code",
   "execution_count": null,
   "metadata": {
    "collapsed": true
   },
   "outputs": [],
   "source": []
  }
 ],
 "metadata": {
  "kernelspec": {
   "display_name": "Python 3",
   "language": "python",
   "name": "python3"
  },
  "language_info": {
   "codemirror_mode": {
    "name": "ipython",
    "version": 3
   },
   "file_extension": ".py",
   "mimetype": "text/x-python",
   "name": "python",
   "nbconvert_exporter": "python",
   "pygments_lexer": "ipython3",
   "version": "3.6.0"
  }
 },
 "nbformat": 4,
 "nbformat_minor": 2
}
